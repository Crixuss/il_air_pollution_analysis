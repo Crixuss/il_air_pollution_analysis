{
 "cells": [
  {
   "cell_type": "code",
   "execution_count": 32,
   "metadata": {},
   "outputs": [],
   "source": [
    "import os\n",
    "import pandas as pd\n",
    "import pandas_profiling\n",
    "import plotly.express as px"
   ]
  },
  {
   "cell_type": "code",
   "execution_count": 33,
   "metadata": {},
   "outputs": [],
   "source": [
    "pollution_file = 'pollution.csv'"
   ]
  },
  {
   "cell_type": "code",
   "execution_count": 34,
   "metadata": {},
   "outputs": [],
   "source": [
    "pollution_df = pd.read_csv(pollution_file)"
   ]
  },
  {
   "cell_type": "code",
   "execution_count": 35,
   "metadata": {},
   "outputs": [
    {
     "data": {
      "text/html": [
       "<div>\n",
       "<style scoped>\n",
       "    .dataframe tbody tr th:only-of-type {\n",
       "        vertical-align: middle;\n",
       "    }\n",
       "\n",
       "    .dataframe tbody tr th {\n",
       "        vertical-align: top;\n",
       "    }\n",
       "\n",
       "    .dataframe thead th {\n",
       "        text-align: right;\n",
       "    }\n",
       "</style>\n",
       "<table border=\"1\" class=\"dataframe\">\n",
       "  <thead>\n",
       "    <tr style=\"text-align: right;\">\n",
       "      <th></th>\n",
       "      <th>facility_name</th>\n",
       "      <th>doc_ctrl_num</th>\n",
       "      <th>reporting_year</th>\n",
       "      <th>chemical_name</th>\n",
       "      <th>release_estimate_amount</th>\n",
       "      <th>carcinogen_chem_ind</th>\n",
       "      <th>clean_air_act_chem_ind</th>\n",
       "      <th>chem_ind_3350</th>\n",
       "      <th>street_address</th>\n",
       "      <th>city</th>\n",
       "      <th>county</th>\n",
       "      <th>county_code</th>\n",
       "      <th>state</th>\n",
       "      <th>zip</th>\n",
       "      <th>region</th>\n",
       "      <th>total_release</th>\n",
       "    </tr>\n",
       "  </thead>\n",
       "  <tbody>\n",
       "    <tr>\n",
       "      <th>0</th>\n",
       "      <td>CCI MANUFACTURING IL CORP</td>\n",
       "      <td>1.305203e+12</td>\n",
       "      <td>2005</td>\n",
       "      <td>ETHYLENE GLYCOL</td>\n",
       "      <td>3930.00</td>\n",
       "      <td>N</td>\n",
       "      <td>Y</td>\n",
       "      <td>N</td>\n",
       "      <td>15550 CANAL BANK RD</td>\n",
       "      <td>LEMONT</td>\n",
       "      <td>COOK</td>\n",
       "      <td>17031</td>\n",
       "      <td>IL</td>\n",
       "      <td>60439</td>\n",
       "      <td>5</td>\n",
       "      <td>3930.00</td>\n",
       "    </tr>\n",
       "    <tr>\n",
       "      <th>1</th>\n",
       "      <td>GE MATHIS CO</td>\n",
       "      <td>1.305203e+12</td>\n",
       "      <td>2005</td>\n",
       "      <td>CHROMIUM</td>\n",
       "      <td>0.00</td>\n",
       "      <td>N</td>\n",
       "      <td>Y</td>\n",
       "      <td>Y</td>\n",
       "      <td>6100 S OAK PARK AVE</td>\n",
       "      <td>CHICAGO</td>\n",
       "      <td>COOK</td>\n",
       "      <td>17031</td>\n",
       "      <td>IL</td>\n",
       "      <td>60638</td>\n",
       "      <td>5</td>\n",
       "      <td>0.00</td>\n",
       "    </tr>\n",
       "    <tr>\n",
       "      <th>2</th>\n",
       "      <td>ARMACELL LLC</td>\n",
       "      <td>1.305203e+12</td>\n",
       "      <td>2005</td>\n",
       "      <td>DECABROMODIPHENYL OXIDE</td>\n",
       "      <td>0.00</td>\n",
       "      <td>N</td>\n",
       "      <td>N</td>\n",
       "      <td>N</td>\n",
       "      <td>16800 S CANAL ST</td>\n",
       "      <td>SOUTH HOLLAND</td>\n",
       "      <td>COOK</td>\n",
       "      <td>17031</td>\n",
       "      <td>IL</td>\n",
       "      <td>60473</td>\n",
       "      <td>5</td>\n",
       "      <td>0.00</td>\n",
       "    </tr>\n",
       "    <tr>\n",
       "      <th>3</th>\n",
       "      <td>WEC CO</td>\n",
       "      <td>1.305203e+12</td>\n",
       "      <td>2005</td>\n",
       "      <td>COPPER</td>\n",
       "      <td>0.99</td>\n",
       "      <td>N</td>\n",
       "      <td>N</td>\n",
       "      <td>N</td>\n",
       "      <td>2606 RT 2 S</td>\n",
       "      <td>OREGON</td>\n",
       "      <td>OGLE</td>\n",
       "      <td>17141</td>\n",
       "      <td>IL</td>\n",
       "      <td>61061</td>\n",
       "      <td>5</td>\n",
       "      <td>0.99</td>\n",
       "    </tr>\n",
       "    <tr>\n",
       "      <th>4</th>\n",
       "      <td>MICKEY TRUCK BODIES INC</td>\n",
       "      <td>1.305203e+12</td>\n",
       "      <td>2005</td>\n",
       "      <td>SULFURIC ACID (1994 AND AFTER \"ACID AEROSOLS\" ...</td>\n",
       "      <td>10.00</td>\n",
       "      <td>N</td>\n",
       "      <td>N</td>\n",
       "      <td>N</td>\n",
       "      <td>14661 OLD COLONIAL RD</td>\n",
       "      <td>BLOOMINGTON</td>\n",
       "      <td>MCLEAN</td>\n",
       "      <td>17113</td>\n",
       "      <td>IL</td>\n",
       "      <td>61704</td>\n",
       "      <td>5</td>\n",
       "      <td>10.00</td>\n",
       "    </tr>\n",
       "  </tbody>\n",
       "</table>\n",
       "</div>"
      ],
      "text/plain": [
       "               facility_name  doc_ctrl_num  reporting_year  \\\n",
       "0  CCI MANUFACTURING IL CORP  1.305203e+12            2005   \n",
       "1               GE MATHIS CO  1.305203e+12            2005   \n",
       "2               ARMACELL LLC  1.305203e+12            2005   \n",
       "3                     WEC CO  1.305203e+12            2005   \n",
       "4    MICKEY TRUCK BODIES INC  1.305203e+12            2005   \n",
       "\n",
       "                                       chemical_name  release_estimate_amount  \\\n",
       "0                                    ETHYLENE GLYCOL                  3930.00   \n",
       "1                                           CHROMIUM                     0.00   \n",
       "2                            DECABROMODIPHENYL OXIDE                     0.00   \n",
       "3                                             COPPER                     0.99   \n",
       "4  SULFURIC ACID (1994 AND AFTER \"ACID AEROSOLS\" ...                    10.00   \n",
       "\n",
       "  carcinogen_chem_ind clean_air_act_chem_ind chem_ind_3350  \\\n",
       "0                   N                      Y             N   \n",
       "1                   N                      Y             Y   \n",
       "2                   N                      N             N   \n",
       "3                   N                      N             N   \n",
       "4                   N                      N             N   \n",
       "\n",
       "          street_address           city  county  county_code state    zip  \\\n",
       "0    15550 CANAL BANK RD         LEMONT    COOK        17031    IL  60439   \n",
       "1    6100 S OAK PARK AVE        CHICAGO    COOK        17031    IL  60638   \n",
       "2       16800 S CANAL ST  SOUTH HOLLAND    COOK        17031    IL  60473   \n",
       "3            2606 RT 2 S         OREGON    OGLE        17141    IL  61061   \n",
       "4  14661 OLD COLONIAL RD    BLOOMINGTON  MCLEAN        17113    IL  61704   \n",
       "\n",
       "   region  total_release  \n",
       "0       5        3930.00  \n",
       "1       5           0.00  \n",
       "2       5           0.00  \n",
       "3       5           0.99  \n",
       "4       5          10.00  "
      ]
     },
     "execution_count": 35,
     "metadata": {},
     "output_type": "execute_result"
    }
   ],
   "source": [
    "pollution_df.head()"
   ]
  },
  {
   "cell_type": "code",
   "execution_count": 36,
   "metadata": {},
   "outputs": [],
   "source": [
    "# report = pollution_df.profile_report(title='Pandas Profiling Report')\n",
    "# report.to_file(output_file='output.html')"
   ]
  },
  {
   "cell_type": "markdown",
   "metadata": {},
   "source": [
    "# Grouped by Facility"
   ]
  },
  {
   "cell_type": "code",
   "execution_count": 57,
   "metadata": {},
   "outputs": [],
   "source": [
    "facility_grouped = pollution_df.groupby(by='facility_name')"
   ]
  },
  {
   "cell_type": "code",
   "execution_count": 58,
   "metadata": {},
   "outputs": [],
   "source": [
    "facility_grouped = facility_grouped.sum().dropna(how='any')\n"
   ]
  },
  {
   "cell_type": "code",
   "execution_count": 61,
   "metadata": {},
   "outputs": [],
   "source": [
    "facility_grouped = facility_grouped.sort_values(by = ['total_release'], ascending = False)"
   ]
  },
  {
   "cell_type": "code",
   "execution_count": 65,
   "metadata": {},
   "outputs": [],
   "source": [
    "facility_grouped_gtz = facility_grouped.loc[facility_grouped['total_release'] > 0]"
   ]
  },
  {
   "cell_type": "code",
   "execution_count": 67,
   "metadata": {},
   "outputs": [],
   "source": [
    "facility_grouped_gtz= facility_grouped_gtz[['total_release']]"
   ]
  },
  {
   "cell_type": "code",
   "execution_count": 70,
   "metadata": {},
   "outputs": [
    {
     "data": {
      "text/html": [
       "<div>\n",
       "<style scoped>\n",
       "    .dataframe tbody tr th:only-of-type {\n",
       "        vertical-align: middle;\n",
       "    }\n",
       "\n",
       "    .dataframe tbody tr th {\n",
       "        vertical-align: top;\n",
       "    }\n",
       "\n",
       "    .dataframe thead th {\n",
       "        text-align: right;\n",
       "    }\n",
       "</style>\n",
       "<table border=\"1\" class=\"dataframe\">\n",
       "  <thead>\n",
       "    <tr style=\"text-align: right;\">\n",
       "      <th></th>\n",
       "      <th>total_release</th>\n",
       "    </tr>\n",
       "    <tr>\n",
       "      <th>facility_name</th>\n",
       "      <th></th>\n",
       "    </tr>\n",
       "  </thead>\n",
       "  <tbody>\n",
       "    <tr>\n",
       "      <th>VISCOFAN USA INC</th>\n",
       "      <td>4.964263e+07</td>\n",
       "    </tr>\n",
       "    <tr>\n",
       "      <th>ADM DECATUR COMPLEX</th>\n",
       "      <td>4.070228e+07</td>\n",
       "    </tr>\n",
       "    <tr>\n",
       "      <th>EAST DUBUQUE NITROGEN FERTILIZERS LLC</th>\n",
       "      <td>1.293660e+07</td>\n",
       "    </tr>\n",
       "    <tr>\n",
       "      <th>COFFEEN POWER STATION</th>\n",
       "      <td>1.200710e+07</td>\n",
       "    </tr>\n",
       "    <tr>\n",
       "      <th>EQUISTAR CHEMICALS LP</th>\n",
       "      <td>1.151807e+07</td>\n",
       "    </tr>\n",
       "  </tbody>\n",
       "</table>\n",
       "</div>"
      ],
      "text/plain": [
       "                                       total_release\n",
       "facility_name                                       \n",
       "VISCOFAN USA INC                        4.964263e+07\n",
       "ADM DECATUR COMPLEX                     4.070228e+07\n",
       "EAST DUBUQUE NITROGEN FERTILIZERS LLC   1.293660e+07\n",
       "COFFEEN POWER STATION                   1.200710e+07\n",
       "EQUISTAR CHEMICALS LP                   1.151807e+07"
      ]
     },
     "execution_count": 70,
     "metadata": {},
     "output_type": "execute_result"
    }
   ],
   "source": [
    "facility_grouped_gtz.head()"
   ]
  },
  {
   "cell_type": "markdown",
   "metadata": {},
   "source": [
    "# Grouped  by Chemical"
   ]
  },
  {
   "cell_type": "code",
   "execution_count": 71,
   "metadata": {},
   "outputs": [],
   "source": [
    "chemical_grouped = pollution_df.groupby(by = 'chemical_name')"
   ]
  },
  {
   "cell_type": "code",
   "execution_count": 73,
   "metadata": {},
   "outputs": [],
   "source": [
    "chemical_grouped = chemical_grouped.sum().dropna(how='any')"
   ]
  },
  {
   "cell_type": "code",
   "execution_count": 74,
   "metadata": {},
   "outputs": [],
   "source": [
    "chemical_grouped = chemical_grouped.sort_values(by = ['total_release'], ascending = False)"
   ]
  },
  {
   "cell_type": "code",
   "execution_count": 75,
   "metadata": {},
   "outputs": [],
   "source": [
    "chemical_grouped_gtz = chemical_grouped.loc[chemical_grouped['total_release'] > 0]"
   ]
  },
  {
   "cell_type": "code",
   "execution_count": 76,
   "metadata": {},
   "outputs": [],
   "source": [
    "chemical_grouped_gtz = chemical_grouped_gtz[['total_release']]"
   ]
  },
  {
   "cell_type": "code",
   "execution_count": 77,
   "metadata": {},
   "outputs": [
    {
     "data": {
      "text/html": [
       "<div>\n",
       "<style scoped>\n",
       "    .dataframe tbody tr th:only-of-type {\n",
       "        vertical-align: middle;\n",
       "    }\n",
       "\n",
       "    .dataframe tbody tr th {\n",
       "        vertical-align: top;\n",
       "    }\n",
       "\n",
       "    .dataframe thead th {\n",
       "        text-align: right;\n",
       "    }\n",
       "</style>\n",
       "<table border=\"1\" class=\"dataframe\">\n",
       "  <thead>\n",
       "    <tr style=\"text-align: right;\">\n",
       "      <th></th>\n",
       "      <th>total_release</th>\n",
       "    </tr>\n",
       "    <tr>\n",
       "      <th>chemical_name</th>\n",
       "      <th></th>\n",
       "    </tr>\n",
       "  </thead>\n",
       "  <tbody>\n",
       "    <tr>\n",
       "      <th>N-HEXANE</th>\n",
       "      <td>6.381494e+07</td>\n",
       "    </tr>\n",
       "    <tr>\n",
       "      <th>HYDROCHLORIC ACID (1995 AND AFTER \"ACID AEROSOLS\" ONLY)</th>\n",
       "      <td>5.650679e+07</td>\n",
       "    </tr>\n",
       "    <tr>\n",
       "      <th>CARBON DISULFIDE</th>\n",
       "      <td>4.712430e+07</td>\n",
       "    </tr>\n",
       "    <tr>\n",
       "      <th>SULFURIC ACID (1994 AND AFTER \"ACID AEROSOLS\" ONLY)</th>\n",
       "      <td>4.474626e+07</td>\n",
       "    </tr>\n",
       "    <tr>\n",
       "      <th>AMMONIA</th>\n",
       "      <td>3.964724e+07</td>\n",
       "    </tr>\n",
       "  </tbody>\n",
       "</table>\n",
       "</div>"
      ],
      "text/plain": [
       "                                                    total_release\n",
       "chemical_name                                                    \n",
       "N-HEXANE                                             6.381494e+07\n",
       "HYDROCHLORIC ACID (1995 AND AFTER \"ACID AEROSOL...   5.650679e+07\n",
       "CARBON DISULFIDE                                     4.712430e+07\n",
       "SULFURIC ACID (1994 AND AFTER \"ACID AEROSOLS\" O...   4.474626e+07\n",
       "AMMONIA                                              3.964724e+07"
      ]
     },
     "execution_count": 77,
     "metadata": {},
     "output_type": "execute_result"
    }
   ],
   "source": [
    "chemical_grouped_gtz.head()"
   ]
  },
  {
   "cell_type": "markdown",
   "metadata": {},
   "source": [
    "# Grouped by Year"
   ]
  },
  {
   "cell_type": "code",
   "execution_count": 78,
   "metadata": {},
   "outputs": [],
   "source": [
    "year_grouped = pollution_df.groupby(by = 'reporting_year')"
   ]
  },
  {
   "cell_type": "code",
   "execution_count": 79,
   "metadata": {},
   "outputs": [],
   "source": [
    "year_grouped = year_grouped.sum().dropna(how='any')"
   ]
  },
  {
   "cell_type": "code",
   "execution_count": 80,
   "metadata": {},
   "outputs": [],
   "source": [
    "year_grouped = year_grouped.sort_values(by = ['total_release'], ascending = False)"
   ]
  },
  {
   "cell_type": "code",
   "execution_count": 81,
   "metadata": {},
   "outputs": [],
   "source": [
    "year_grouped_gtz = year_grouped.loc[year_grouped['total_release'] > 0]"
   ]
  },
  {
   "cell_type": "code",
   "execution_count": 82,
   "metadata": {},
   "outputs": [],
   "source": [
    "year_grouped_gtz = year_grouped_gtz[['total_release']]"
   ]
  },
  {
   "cell_type": "code",
   "execution_count": 85,
   "metadata": {},
   "outputs": [
    {
     "data": {
      "text/html": [
       "<div>\n",
       "<style scoped>\n",
       "    .dataframe tbody tr th:only-of-type {\n",
       "        vertical-align: middle;\n",
       "    }\n",
       "\n",
       "    .dataframe tbody tr th {\n",
       "        vertical-align: top;\n",
       "    }\n",
       "\n",
       "    .dataframe thead th {\n",
       "        text-align: right;\n",
       "    }\n",
       "</style>\n",
       "<table border=\"1\" class=\"dataframe\">\n",
       "  <thead>\n",
       "    <tr style=\"text-align: right;\">\n",
       "      <th></th>\n",
       "      <th>total_release</th>\n",
       "    </tr>\n",
       "    <tr>\n",
       "      <th>reporting_year</th>\n",
       "      <th></th>\n",
       "    </tr>\n",
       "  </thead>\n",
       "  <tbody>\n",
       "    <tr>\n",
       "      <th>2005</th>\n",
       "      <td>5.136447e+07</td>\n",
       "    </tr>\n",
       "    <tr>\n",
       "      <th>2007</th>\n",
       "      <td>4.076043e+07</td>\n",
       "    </tr>\n",
       "    <tr>\n",
       "      <th>2006</th>\n",
       "      <td>4.075339e+07</td>\n",
       "    </tr>\n",
       "    <tr>\n",
       "      <th>2008</th>\n",
       "      <td>3.653911e+07</td>\n",
       "    </tr>\n",
       "    <tr>\n",
       "      <th>2010</th>\n",
       "      <td>2.974595e+07</td>\n",
       "    </tr>\n",
       "  </tbody>\n",
       "</table>\n",
       "</div>"
      ],
      "text/plain": [
       "                total_release\n",
       "reporting_year               \n",
       "2005             5.136447e+07\n",
       "2007             4.076043e+07\n",
       "2006             4.075339e+07\n",
       "2008             3.653911e+07\n",
       "2010             2.974595e+07"
      ]
     },
     "execution_count": 85,
     "metadata": {},
     "output_type": "execute_result"
    }
   ],
   "source": [
    "year_grouped_gtz.head()"
   ]
  },
  {
   "cell_type": "markdown",
   "metadata": {},
   "source": [
    "# Grouped by Carcinogen"
   ]
  },
  {
   "cell_type": "code",
   "execution_count": 86,
   "metadata": {},
   "outputs": [],
   "source": [
    "carc_grouped = pollution_df.groupby(by = 'carcinogen_chem_ind')"
   ]
  },
  {
   "cell_type": "code",
   "execution_count": 87,
   "metadata": {},
   "outputs": [],
   "source": [
    "carc_grouped = carc_grouped.sum().dropna(how= 'any')"
   ]
  },
  {
   "cell_type": "code",
   "execution_count": 88,
   "metadata": {},
   "outputs": [],
   "source": [
    "carc_grouped = carc_grouped.sort_values(by = ['total_release'], ascending = False)"
   ]
  },
  {
   "cell_type": "code",
   "execution_count": 89,
   "metadata": {},
   "outputs": [],
   "source": [
    "carc_grouped_gtz = carc_grouped.loc[carc_grouped['total_release'] > 0]"
   ]
  },
  {
   "cell_type": "code",
   "execution_count": 90,
   "metadata": {},
   "outputs": [],
   "source": [
    "carc_grouped_gtz = carc_grouped_gtz[['total_release']]"
   ]
  },
  {
   "cell_type": "code",
   "execution_count": 91,
   "metadata": {},
   "outputs": [
    {
     "data": {
      "text/html": [
       "<div>\n",
       "<style scoped>\n",
       "    .dataframe tbody tr th:only-of-type {\n",
       "        vertical-align: middle;\n",
       "    }\n",
       "\n",
       "    .dataframe tbody tr th {\n",
       "        vertical-align: top;\n",
       "    }\n",
       "\n",
       "    .dataframe thead th {\n",
       "        text-align: right;\n",
       "    }\n",
       "</style>\n",
       "<table border=\"1\" class=\"dataframe\">\n",
       "  <thead>\n",
       "    <tr style=\"text-align: right;\">\n",
       "      <th></th>\n",
       "      <th>total_release</th>\n",
       "    </tr>\n",
       "    <tr>\n",
       "      <th>carcinogen_chem_ind</th>\n",
       "      <th></th>\n",
       "    </tr>\n",
       "  </thead>\n",
       "  <tbody>\n",
       "    <tr>\n",
       "      <th>N</th>\n",
       "      <td>4.047224e+08</td>\n",
       "    </tr>\n",
       "    <tr>\n",
       "      <th>Y</th>\n",
       "      <td>3.691201e+07</td>\n",
       "    </tr>\n",
       "  </tbody>\n",
       "</table>\n",
       "</div>"
      ],
      "text/plain": [
       "                     total_release\n",
       "carcinogen_chem_ind               \n",
       "N                     4.047224e+08\n",
       "Y                     3.691201e+07"
      ]
     },
     "execution_count": 91,
     "metadata": {},
     "output_type": "execute_result"
    }
   ],
   "source": [
    "carc_grouped_gtz.head()"
   ]
  },
  {
   "cell_type": "markdown",
   "metadata": {},
   "source": [
    "# Grouped by Clean Air"
   ]
  },
  {
   "cell_type": "code",
   "execution_count": 92,
   "metadata": {},
   "outputs": [],
   "source": [
    "clean_air_grouped = pollution_df.groupby(by = 'clean_air_act_chem_ind')"
   ]
  },
  {
   "cell_type": "code",
   "execution_count": 93,
   "metadata": {},
   "outputs": [],
   "source": [
    "clean_air_grouped = clean_air_grouped.sum().dropna(how='any')"
   ]
  },
  {
   "cell_type": "code",
   "execution_count": 94,
   "metadata": {},
   "outputs": [],
   "source": [
    "clean_air_grouped = clean_air_grouped.sort_values(by = ['total_release'], ascending = False)"
   ]
  },
  {
   "cell_type": "code",
   "execution_count": 95,
   "metadata": {},
   "outputs": [],
   "source": [
    "clean_air_grouped_gtz = clean_air_grouped.loc[clean_air_grouped['total_release'] > 0]"
   ]
  },
  {
   "cell_type": "code",
   "execution_count": 96,
   "metadata": {},
   "outputs": [],
   "source": [
    "clean_air_grouped_gtz = clean_air_grouped_gtz[['total_release']]"
   ]
  },
  {
   "cell_type": "code",
   "execution_count": 97,
   "metadata": {},
   "outputs": [
    {
     "data": {
      "text/html": [
       "<div>\n",
       "<style scoped>\n",
       "    .dataframe tbody tr th:only-of-type {\n",
       "        vertical-align: middle;\n",
       "    }\n",
       "\n",
       "    .dataframe tbody tr th {\n",
       "        vertical-align: top;\n",
       "    }\n",
       "\n",
       "    .dataframe thead th {\n",
       "        text-align: right;\n",
       "    }\n",
       "</style>\n",
       "<table border=\"1\" class=\"dataframe\">\n",
       "  <thead>\n",
       "    <tr style=\"text-align: right;\">\n",
       "      <th></th>\n",
       "      <th>total_release</th>\n",
       "    </tr>\n",
       "    <tr>\n",
       "      <th>clean_air_act_chem_ind</th>\n",
       "      <th></th>\n",
       "    </tr>\n",
       "  </thead>\n",
       "  <tbody>\n",
       "    <tr>\n",
       "      <th>Y</th>\n",
       "      <td>3.074592e+08</td>\n",
       "    </tr>\n",
       "    <tr>\n",
       "      <th>N</th>\n",
       "      <td>1.341751e+08</td>\n",
       "    </tr>\n",
       "  </tbody>\n",
       "</table>\n",
       "</div>"
      ],
      "text/plain": [
       "                        total_release\n",
       "clean_air_act_chem_ind               \n",
       "Y                        3.074592e+08\n",
       "N                        1.341751e+08"
      ]
     },
     "execution_count": 97,
     "metadata": {},
     "output_type": "execute_result"
    }
   ],
   "source": [
    "clean_air_grouped_gtz.head()"
   ]
  },
  {
   "cell_type": "markdown",
   "metadata": {},
   "source": [
    "# Grouped by 3350 Chemical"
   ]
  },
  {
   "cell_type": "code",
   "execution_count": 98,
   "metadata": {},
   "outputs": [],
   "source": [
    "chem_3350_grouped = pollution_df.groupby(by ='chem_ind_3350')"
   ]
  },
  {
   "cell_type": "code",
   "execution_count": 99,
   "metadata": {},
   "outputs": [],
   "source": [
    "chem_3350_grouped = chem_3350_grouped.sum().dropna(how = 'any')"
   ]
  },
  {
   "cell_type": "code",
   "execution_count": 100,
   "metadata": {},
   "outputs": [],
   "source": [
    "chem_3350_grouped = chem_3350_grouped.sort_values(by = ['total_release'], ascending = False)"
   ]
  },
  {
   "cell_type": "code",
   "execution_count": 102,
   "metadata": {},
   "outputs": [],
   "source": [
    "chem_3350_grouped_gtz = chem_3350_grouped.loc[chem_3350_grouped['total_release'] > 0]"
   ]
  },
  {
   "cell_type": "code",
   "execution_count": 104,
   "metadata": {},
   "outputs": [],
   "source": [
    "chem_3350_grouped_gtz = chem_3350_grouped_gtz[['total_release']]"
   ]
  },
  {
   "cell_type": "code",
   "execution_count": 105,
   "metadata": {},
   "outputs": [
    {
     "data": {
      "text/html": [
       "<div>\n",
       "<style scoped>\n",
       "    .dataframe tbody tr th:only-of-type {\n",
       "        vertical-align: middle;\n",
       "    }\n",
       "\n",
       "    .dataframe tbody tr th {\n",
       "        vertical-align: top;\n",
       "    }\n",
       "\n",
       "    .dataframe thead th {\n",
       "        text-align: right;\n",
       "    }\n",
       "</style>\n",
       "<table border=\"1\" class=\"dataframe\">\n",
       "  <thead>\n",
       "    <tr style=\"text-align: right;\">\n",
       "      <th></th>\n",
       "      <th>total_release</th>\n",
       "    </tr>\n",
       "    <tr>\n",
       "      <th>chem_ind_3350</th>\n",
       "      <th></th>\n",
       "    </tr>\n",
       "  </thead>\n",
       "  <tbody>\n",
       "    <tr>\n",
       "      <th>N</th>\n",
       "      <td>4.210238e+08</td>\n",
       "    </tr>\n",
       "    <tr>\n",
       "      <th>Y</th>\n",
       "      <td>2.061057e+07</td>\n",
       "    </tr>\n",
       "  </tbody>\n",
       "</table>\n",
       "</div>"
      ],
      "text/plain": [
       "               total_release\n",
       "chem_ind_3350               \n",
       "N               4.210238e+08\n",
       "Y               2.061057e+07"
      ]
     },
     "execution_count": 105,
     "metadata": {},
     "output_type": "execute_result"
    }
   ],
   "source": [
    "chem_3350_grouped_gtz.head()"
   ]
  },
  {
   "cell_type": "markdown",
   "metadata": {},
   "source": [
    "# Grouped by County"
   ]
  },
  {
   "cell_type": "code",
   "execution_count": 106,
   "metadata": {},
   "outputs": [],
   "source": [
    "county_grouped = pollution_df.groupby(by = 'county')"
   ]
  },
  {
   "cell_type": "code",
   "execution_count": 107,
   "metadata": {},
   "outputs": [],
   "source": [
    "county_grouped = county_grouped.sum().dropna(how='any')"
   ]
  },
  {
   "cell_type": "code",
   "execution_count": 108,
   "metadata": {},
   "outputs": [],
   "source": [
    "county_grouped = county_grouped.sort_values(by = ['total_release'], ascending = False)"
   ]
  },
  {
   "cell_type": "code",
   "execution_count": 109,
   "metadata": {},
   "outputs": [],
   "source": [
    "county_grouped_gtz = county_grouped.loc[county_grouped['total_release'] > 0]"
   ]
  },
  {
   "cell_type": "code",
   "execution_count": 110,
   "metadata": {},
   "outputs": [],
   "source": [
    "county_grouped_gtz = county_grouped_gtz[['total_release']]"
   ]
  },
  {
   "cell_type": "code",
   "execution_count": 111,
   "metadata": {},
   "outputs": [
    {
     "data": {
      "text/html": [
       "<div>\n",
       "<style scoped>\n",
       "    .dataframe tbody tr th:only-of-type {\n",
       "        vertical-align: middle;\n",
       "    }\n",
       "\n",
       "    .dataframe tbody tr th {\n",
       "        vertical-align: top;\n",
       "    }\n",
       "\n",
       "    .dataframe thead th {\n",
       "        text-align: right;\n",
       "    }\n",
       "</style>\n",
       "<table border=\"1\" class=\"dataframe\">\n",
       "  <thead>\n",
       "    <tr style=\"text-align: right;\">\n",
       "      <th></th>\n",
       "      <th>total_release</th>\n",
       "    </tr>\n",
       "    <tr>\n",
       "      <th>county</th>\n",
       "      <th></th>\n",
       "    </tr>\n",
       "  </thead>\n",
       "  <tbody>\n",
       "    <tr>\n",
       "      <th>VERMILION</th>\n",
       "      <td>5.695303e+07</td>\n",
       "    </tr>\n",
       "    <tr>\n",
       "      <th>MACON</th>\n",
       "      <td>4.703455e+07</td>\n",
       "    </tr>\n",
       "    <tr>\n",
       "      <th>COOK</th>\n",
       "      <td>4.632753e+07</td>\n",
       "    </tr>\n",
       "    <tr>\n",
       "      <th>WILL</th>\n",
       "      <td>3.134114e+07</td>\n",
       "    </tr>\n",
       "    <tr>\n",
       "      <th>MADISON</th>\n",
       "      <td>1.825411e+07</td>\n",
       "    </tr>\n",
       "  </tbody>\n",
       "</table>\n",
       "</div>"
      ],
      "text/plain": [
       "           total_release\n",
       "county                  \n",
       "VERMILION   5.695303e+07\n",
       "MACON       4.703455e+07\n",
       "COOK        4.632753e+07\n",
       "WILL        3.134114e+07\n",
       "MADISON     1.825411e+07"
      ]
     },
     "execution_count": 111,
     "metadata": {},
     "output_type": "execute_result"
    }
   ],
   "source": [
    "county_grouped_gtz.head()"
   ]
  },
  {
   "cell_type": "code",
   "execution_count": null,
   "metadata": {},
   "outputs": [],
   "source": []
  }
 ],
 "metadata": {
  "kernelspec": {
   "display_name": "Python 3",
   "language": "python",
   "name": "python3"
  },
  "language_info": {
   "codemirror_mode": {
    "name": "ipython",
    "version": 3
   },
   "file_extension": ".py",
   "mimetype": "text/x-python",
   "name": "python",
   "nbconvert_exporter": "python",
   "pygments_lexer": "ipython3",
   "version": "3.7.3"
  }
 },
 "nbformat": 4,
 "nbformat_minor": 2
}
